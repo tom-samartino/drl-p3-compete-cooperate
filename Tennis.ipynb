{
 "cells": [
  {
   "cell_type": "markdown",
   "metadata": {},
   "source": [
    "# Project 3 - Tennis: Collaboration and Competition\n",
    "\n",
    "* Implement a multi-agent DDPG algorithm to train two agents to play a game of tennis"
   ]
  },
  {
   "cell_type": "markdown",
   "metadata": {},
   "source": [
    "## 1. Start the Environment\n",
    "\n",
    "Run the next code cell to install a few packages.  This line will take a few minutes to run!"
   ]
  },
  {
   "cell_type": "code",
   "execution_count": 1,
   "metadata": {},
   "outputs": [
    {
     "name": "stdout",
     "output_type": "stream",
     "text": [
      "\u001b[31mtensorflow 1.7.1 has requirement numpy>=1.13.3, but you'll have numpy 1.12.1 which is incompatible.\u001b[0m\r\n",
      "\u001b[31mipython 6.5.0 has requirement prompt-toolkit<2.0.0,>=1.0.15, but you'll have prompt-toolkit 3.0.20 which is incompatible.\u001b[0m\r\n"
     ]
    }
   ],
   "source": [
    "!pip -q install ./python"
   ]
  },
  {
   "cell_type": "markdown",
   "metadata": {},
   "source": [
    "## 2. Load the necessary libraries and software modules"
   ]
  },
  {
   "cell_type": "code",
   "execution_count": 2,
   "metadata": {},
   "outputs": [],
   "source": [
    "import numpy as np\n",
    "import random\n",
    "import time\n",
    "import torch\n",
    "import torch.nn as nn\n",
    "import torch.nn.functional as F\n",
    "import torch.optim as optim\n",
    "import copy\n",
    "from collections import namedtuple, deque\n",
    "import sys\n",
    "sys.path.insert(0, '/home/workspace/python/src/')"
   ]
  },
  {
   "cell_type": "markdown",
   "metadata": {},
   "source": [
    "## 3. Load 'Tennis' Unity Environment\n",
    "The environment is already saved in the Workspace and can be accessed at the file path provided below. "
   ]
  },
  {
   "cell_type": "code",
   "execution_count": 3,
   "metadata": {},
   "outputs": [
    {
     "name": "stderr",
     "output_type": "stream",
     "text": [
      "INFO:unityagents:\n",
      "'Academy' started successfully!\n",
      "Unity Academy name: Academy\n",
      "        Number of Brains: 1\n",
      "        Number of External Brains : 1\n",
      "        Lesson number : 0\n",
      "        Reset Parameters :\n",
      "\t\t\n",
      "Unity brain name: TennisBrain\n",
      "        Number of Visual Observations (per agent): 0\n",
      "        Vector Observation space type: continuous\n",
      "        Vector Observation space size (per agent): 8\n",
      "        Number of stacked Vector Observation: 3\n",
      "        Vector Action space type: continuous\n",
      "        Vector Action space size (per agent): 2\n",
      "        Vector Action descriptions: , \n"
     ]
    }
   ],
   "source": [
    "from unityagents import UnityEnvironment\n",
    "env = UnityEnvironment(file_name=\"/data/Tennis_Linux_NoVis/Tennis\")"
   ]
  },
  {
   "cell_type": "markdown",
   "metadata": {},
   "source": [
    "Environments contain **_brains_** which are responsible for deciding the actions of their associated agents. Here we check for the first brain available, and set it as the default brain we will be controlling from Python."
   ]
  },
  {
   "cell_type": "code",
   "execution_count": 4,
   "metadata": {},
   "outputs": [],
   "source": [
    "# get the default brain\n",
    "brain_name = env.brain_names[0]\n",
    "brain = env.brains[brain_name]"
   ]
  },
  {
   "cell_type": "markdown",
   "metadata": {},
   "source": [
    "## 4. Examine the State and Action Spaces\n",
    "\n",
    "Run the code cell below to print some information about the environment."
   ]
  },
  {
   "cell_type": "code",
   "execution_count": 5,
   "metadata": {},
   "outputs": [
    {
     "name": "stdout",
     "output_type": "stream",
     "text": [
      "Number of agents: 2\n",
      "Size of each action: 2\n",
      "There are 2 agents. Each observes a state with length: 24\n",
      "The state for both agents look like: [[ 0.          0.          0.          0.          0.          0.          0.\n",
      "   0.          0.          0.          0.          0.          0.          0.\n",
      "   0.          0.         -6.65278625 -1.5        -0.          0.\n",
      "   6.83172083  6.         -0.          0.        ]\n",
      " [ 0.          0.          0.          0.          0.          0.          0.\n",
      "   0.          0.          0.          0.          0.          0.          0.\n",
      "   0.          0.         -6.4669857  -1.5         0.          0.\n",
      "  -6.83172083  6.          0.          0.        ]]\n",
      "The rewards for both agents look like: [0.0, 0.0]\n"
     ]
    }
   ],
   "source": [
    "# reset the environment\n",
    "env_info = env.reset(train_mode=True)[brain_name]\n",
    "\n",
    "# number of agents \n",
    "num_agents = len(env_info.agents)\n",
    "print('Number of agents:', num_agents)\n",
    "\n",
    "# size of each action\n",
    "action_size = brain.vector_action_space_size\n",
    "print('Size of each action:', action_size)\n",
    "\n",
    "# examine the state space \n",
    "states = env_info.vector_observations\n",
    "state_size = states.shape[1]\n",
    "print('There are {} agents. Each observes a state with length: {}'.format(states.shape[0], state_size))\n",
    "print('The state for both agents look like:', states)\n",
    "\n",
    "rewards = env_info.rewards\n",
    "print('The rewards for both agents look like:', rewards)"
   ]
  },
  {
   "cell_type": "markdown",
   "metadata": {},
   "source": [
    "## 5. Global Hyperparameters"
   ]
  },
  {
   "cell_type": "code",
   "execution_count": 6,
   "metadata": {},
   "outputs": [],
   "source": [
    "# Seed the RNG for reproducability\n",
    "SEED = 1\n",
    "\n",
    "# Select GPU for training if available\n",
    "device = torch.device(\"cuda:0\" if torch.cuda.is_available() else \"cpu\")"
   ]
  },
  {
   "cell_type": "markdown",
   "metadata": {},
   "source": [
    "## 6. Class Definitions\n",
    "* Define various classes directly in the notebook for editing convenience\n",
    "* Found that updating logic in external python files was not getting immediately reflected in this notebook"
   ]
  },
  {
   "cell_type": "markdown",
   "metadata": {},
   "source": [
    "### 6.1 Action Space Noise and Replay Buffer\n",
    "* Implement action space noise via an Ornstein-Uhlenbeck process for policy exploration\n",
    "* Create a buffer to store experience tuples and sample uncorrelated batches"
   ]
  },
  {
   "cell_type": "code",
   "execution_count": 7,
   "metadata": {},
   "outputs": [],
   "source": [
    "class OUNoise:\n",
    "    def __init__(self, size, mu=0., theta=0.15, sigma=0.2):\n",
    "        \"\"\"Initialize noise parameters\"\"\"\n",
    "        self.mu = mu * np.ones(size)\n",
    "        self.theta = theta\n",
    "        self.sigma = sigma\n",
    "        self.seed = random.seed(SEED)\n",
    "        self.reset()\n",
    "        \n",
    "    def reset(self):\n",
    "        \"\"\"Reset the internal state to mean.\"\"\"\n",
    "        self.state = copy.copy(self.mu)\n",
    "        \n",
    "    def sample(self):\n",
    "        \"\"\"Update internal state and return it as a noise sample\"\"\"\n",
    "        x =self.state\n",
    "        noise = self.theta * (self.mu - x) + self.sigma * (np.random.randn(*x.shape)-0.5)\n",
    "        self.state = self.theta + noise\n",
    "        return self.state\n",
    "\n",
    "    \n",
    "class ReplayBuffer:\n",
    "    def __init__(self, buffer_size, batch_size):\n",
    "        \"\"\"Initialize a ReplayBuffer object.\"\"\"\n",
    "        self.memory = deque(maxlen=buffer_size)\n",
    "        self.batch_size = batch_size\n",
    "        self.experience = namedtuple(\"Experience\", field_names = [\"state\", \"action\", \"reward\", \"next_state\", \"done\"])\n",
    "        self.seed = random.seed(SEED)\n",
    "        \n",
    "    def add(self, state, action, reward, next_state, done):\n",
    "        \"\"\"Store new experience to replay memory.\"\"\"\n",
    "        e = self.experience(state, action, reward, next_state, done)\n",
    "        self.memory.append(e)\n",
    "        \n",
    "    def sample(self):\n",
    "        \"\"\"Randomly sample a batch of experiences from memory for training\"\"\"\n",
    "        experiences =  random.sample(self.memory, k=self.batch_size)\n",
    "        states = torch.from_numpy(np.vstack([e.state for e in experiences if e is not None])).float().to(device)\n",
    "        actions = torch.from_numpy(np.vstack([e.action for e in experiences if e is not None])).float().to(device)\n",
    "        rewards = torch.from_numpy(np.vstack([e.reward for e in experiences if e is not None])).float().to(device)\n",
    "        next_states = torch.from_numpy(np.vstack([e.next_state for e in experiences if e is not None])).float().to(device)\n",
    "        dones = torch.from_numpy(np.vstack([e.done for e in experiences if e is not None]).astype(np.uint8)).float().to(device)\n",
    "        return (states, actions, rewards, next_states, dones)\n",
    "    \n",
    "    def __len__(self):\n",
    "        \"\"\"\"Return the current size of internal memory\"\"\"\n",
    "        return len(self.memory)"
   ]
  },
  {
   "cell_type": "markdown",
   "metadata": {},
   "source": [
    "### 6.2 Define Actor and Critic Network Architecture\n",
    "* DDPG utilizes an Actor/Critic network architecture to estimate the optimal policy/value functions\n",
    "* Adapted from Pendulum model in the Udacity Deep Reinforcement Learning Github repo"
   ]
  },
  {
   "cell_type": "code",
   "execution_count": 8,
   "metadata": {},
   "outputs": [],
   "source": [
    "\n",
    "UNIFORM_BOUND = 5e-3     # bounds for uniform distribution \n",
    "\n",
    "def hidden_init(layer):\n",
    "    fan_in = layer.weight.data.size()[0]\n",
    "    lim = 1.0/np.sqrt(fan_in)\n",
    "    return (-lim,lim)\n",
    "\n",
    "class Actor(nn.Module):\n",
    "    \"\"\"Actor (Policy) Model.\"\"\"\n",
    "    \n",
    "    def __init__(self, state_size, action_size, fc1_units=256, fc2_units=256):\n",
    "        \"\"\"Initialize parameters and build model.\"\"\"\n",
    "        super(Actor, self).__init__()\n",
    "        self.seed = torch.manual_seed(SEED)\n",
    "        self.fc1 = nn.Linear(state_size, fc1_units)\n",
    "        self.fc2 = nn.Linear(fc1_units, fc2_units)\n",
    "        self.bn2 = nn.BatchNorm1d(fc2_units)\n",
    "        self.fc3 = nn.Linear(fc2_units, action_size)\n",
    "        self.reset_parameters()\n",
    "    \n",
    "    def reset_parameters(self):\n",
    "        self.fc1.weight.data.uniform_(*hidden_init(self.fc1))\n",
    "        self.fc2.weight.data.uniform_(*hidden_init(self.fc2))\n",
    "        self.fc3.weight.data.uniform_(-UNIFORM_BOUND, UNIFORM_BOUND)\n",
    "        \n",
    "    def forward(self, state):\n",
    "        \"\"\"Build an actor (policy) network that maps states -> actions.\"\"\"\n",
    "        x = F.relu(self.fc1(state))\n",
    "        x = F.relu(self.bn2(self.fc2(x)))\n",
    "        return torch.tanh(self.fc3(x))\n",
    "\n",
    "class Critic(nn.Module):\n",
    "    \"\"\"Critic (Value) Model.\"\"\"\n",
    "    \n",
    "    def __init__(self, state_size, action_size, fc1_units=256, fc2_units=256):\n",
    "        \"\"\"Initialize parameters and build model.\"\"\"\n",
    "        super(Critic, self).__init__()\n",
    "        self.seed = torch.manual_seed(SEED)\n",
    "        self.fc1 = nn.Linear(state_size, fc1_units)\n",
    "        self.bn1 = nn.BatchNorm1d(fc1_units)\n",
    "        self.fc2 = nn.Linear(fc1_units+action_size, fc2_units)\n",
    "        self.fc3 = nn.Linear(fc2_units, 1)\n",
    "        self.reset_parameters()\n",
    "        \n",
    "    def reset_parameters(self):\n",
    "        self.fc1.weight.data.uniform_(*hidden_init(self.fc1))\n",
    "        self.fc2.weight.data.uniform_(*hidden_init(self.fc2))\n",
    "        self.fc3.weight.data.uniform_(-UNIFORM_BOUND, UNIFORM_BOUND)\n",
    "        \n",
    "    def forward(self, state, action):\n",
    "        \"\"\"Build a critic (value) network that maps (state, action) pairs -> Q-values.\"\"\"\n",
    "        x = F.relu(self.bn1(self.fc1(state)))\n",
    "        x = torch.cat((x, action), dim=1)\n",
    "        x = F.relu(self.fc2(x))\n",
    "        return self.fc3(x)"
   ]
  },
  {
   "cell_type": "markdown",
   "metadata": {},
   "source": [
    "### 6.3 Define DDPG Agent"
   ]
  },
  {
   "cell_type": "code",
   "execution_count": 9,
   "metadata": {},
   "outputs": [],
   "source": [
    "### Hyperparameters\n",
    "BUFFER_SIZE = int(1e6)  # replay buffer size\n",
    "BATCH_SIZE = 256        # minibatch size\n",
    "GAMMA = 0.99            # discount factor\n",
    "TAU = 1e-3              # for soft update of target parameters\n",
    "LR_ACTOR = 1e-3         # learning rate of the actor\n",
    "LR_CRITIC = 1e-3        # learning rate of the critic\n",
    "LEARN_EVERY = 10        # learning timestep interval\n",
    "NUM_LEARNS = 5         # number of learning passes\n",
    "UPDATE_EVERY = 1        # update timestep interval\n",
    "NUM_UPDATES = 1         # number of updates each interval\n",
    "NOISE_VAR = 1.0         # amplitude of action space noise\n",
    "NOISE_REDUCTION = 1e-5  # reduction rate of action noise\n",
    "\n",
    "class DDPG_Agent():   \n",
    "    def __init__(self, state_size, action_size, num_agents=2):\n",
    "        \"\"\"Initialize a DDPG Agent object.\"\"\"\n",
    "        self.seed = random.seed(SEED)\n",
    "        self.epsilon = NOISE_VAR\n",
    "        \n",
    "        # Initialize the local and target Actor network\n",
    "        self.actor_local = Actor(state_size, action_size).to(device)\n",
    "        self.actor_target = Actor(state_size, action_size).to(device)\n",
    "        self.actor_optimizer = optim.Adam(self.actor_local.parameters(), lr=LR_ACTOR)\n",
    "        \n",
    "        # Initialize the local and target Critic network\n",
    "        self.critic_local = Critic(state_size, action_size).to(device)\n",
    "        self.critic_target = Critic(state_size, action_size).to(device)\n",
    "        self.critic_optimizer = optim.Adam(self.critic_local.parameters(), lr=LR_CRITIC)\n",
    "        \n",
    "        # Initialize the Replay memory\n",
    "        self.memory = ReplayBuffer(BUFFER_SIZE, BATCH_SIZE)\n",
    "        \n",
    "        # Initialize the Ornsten-Uhlenbeck process to add exploration noise\n",
    "        self.noise = OUNoise((num_agents,action_size))\n",
    "        \n",
    "        \n",
    "    def reset(self):\n",
    "        self.noise.reset()\n",
    "        \n",
    "        \n",
    "    def step(self, S, A, R, NS, T, t_i):\n",
    "        \"\"\"Save experience in replay memory, and use random sample from buffer to learn.\"\"\"\n",
    "        # Save experience / reward\n",
    "        self.memory.add(S, A, R, NS, T)\n",
    "\n",
    "        # Learn at specified interval, if enough samples are available in memory\n",
    "        # -> option to learn multiple times per interval\n",
    "        if len(self.memory) > BATCH_SIZE and t_i % LEARN_EVERY == 0:\n",
    "            for _ in range(NUM_LEARNS):\n",
    "                experiences = self.memory.sample()\n",
    "                self.learn(experiences, t_i)\n",
    "                \n",
    "        if NOISE_REDUCTION > 0:\n",
    "            self.epsilon -= NOISE_REDUCTION\n",
    "                \n",
    "                \n",
    "    def act(self, S, explore=True):\n",
    "        \"\"\"Returns actions for given state as per current policy.\"\"\"\n",
    "        S = torch.from_numpy(S).float().to(device)\n",
    "        self.actor_local.eval()\n",
    "        with torch.no_grad():\n",
    "            action = self.actor_local(S).cpu().data.numpy()\n",
    "        self.actor_local.train()\n",
    "        if explore:\n",
    "            action += self.epsilon * self.noise.sample()    \n",
    "        return np.clip(action, -1, 1)\n",
    "    \n",
    "    \n",
    "    def soft_update(self, local_model, target_model, tau):\n",
    "        \"\"\"Soft update model parameters.\n",
    "        θ_target_model = TAU*θ_local_model + (1 - TAU)*θ_target_model\n",
    "        \"\"\"\n",
    "        for target_param, local_param in zip(target_model.parameters(), local_model.parameters()):\n",
    "            target_param.data.copy_(tau*local_param.data + (1.0-tau)*target_param.data)\n",
    "        \n",
    "        \n",
    "    def learn(self, experiences, t_i):\n",
    "        \"\"\"Update policy and value parameters using given batch of experience tuples.\n",
    "        Q_targets = r + γ * critic_target(next_state, actor_target(next_state))\n",
    "        where:\n",
    "            actor_target(state) -> action\n",
    "            critic_target(state, action) -> Q-value\n",
    "\n",
    "        Params\n",
    "        ======\n",
    "            experiences (Tuple[torch.Tensor]): tuple of (s, a, r, s', done) tuples \n",
    "        \"\"\"\n",
    "        S, A, R, NS, T = experiences\n",
    "        \n",
    "        # ---------------------------- update critic ---------------------------- #\n",
    "        # Get predicted next-state actions and Q values from target models\n",
    "        NA = self.actor_target(NS)\n",
    "        Q_targets_next = self.critic_target(NS, NA)\n",
    "        \n",
    "        # compute Q-value targets\n",
    "        Q_targets = R + (GAMMA * Q_targets_next * (1 - T))\n",
    "        \n",
    "        # compute critic loss\n",
    "        Q_expected = self.critic_local(S, A)\n",
    "        critic_loss = F.mse_loss(Q_expected, Q_targets)\n",
    "        \n",
    "        # Minimize the loss\n",
    "        self.critic_optimizer.zero_grad()\n",
    "        critic_loss.backward()\n",
    "        torch.nn.utils.clip_grad_norm_(self.critic_local.parameters(), 1)\n",
    "        self.critic_optimizer.step()\n",
    "\n",
    "        # ---------------------------- update actor ---------------------------- #\n",
    "        # compute actor loss\n",
    "        A_pred = self.actor_local(S)\n",
    "        actor_loss = -self.critic_local(S, A_pred).mean()\n",
    "        \n",
    "        # minimize actor loss\n",
    "        self.actor_optimizer.zero_grad()\n",
    "        actor_loss.backward()\n",
    "        self.actor_optimizer.step()\n",
    "        \n",
    "        # ----------------------- update target networks ----------------------- #\n",
    "        if (t_i % UPDATE_EVERY == 0):\n",
    "            for _ in range(NUM_UPDATES):\n",
    "                self.soft_update(self.critic_local, self.critic_target, TAU)\n",
    "                self.soft_update(self.actor_local, self.actor_target, TAU)\n"
   ]
  },
  {
   "cell_type": "markdown",
   "metadata": {},
   "source": [
    "## 7. Initialize DDPG Agent Object\n",
    "* Show internal network architecture"
   ]
  },
  {
   "cell_type": "code",
   "execution_count": 10,
   "metadata": {},
   "outputs": [
    {
     "name": "stdout",
     "output_type": "stream",
     "text": [
      "Actor(\n",
      "  (fc1): Linear(in_features=24, out_features=256, bias=True)\n",
      "  (fc2): Linear(in_features=256, out_features=256, bias=True)\n",
      "  (bn2): BatchNorm1d(256, eps=1e-05, momentum=0.1, affine=True, track_running_stats=True)\n",
      "  (fc3): Linear(in_features=256, out_features=2, bias=True)\n",
      ")\n",
      "Critic(\n",
      "  (fc1): Linear(in_features=24, out_features=256, bias=True)\n",
      "  (bn1): BatchNorm1d(256, eps=1e-05, momentum=0.1, affine=True, track_running_stats=True)\n",
      "  (fc2): Linear(in_features=258, out_features=256, bias=True)\n",
      "  (fc3): Linear(in_features=256, out_features=1, bias=True)\n",
      ")\n"
     ]
    }
   ],
   "source": [
    "agent = DDPG_Agent(state_size, action_size) # instantiate the DDPG agent\n",
    "print(agent.actor_local)\n",
    "print(agent.critic_local)"
   ]
  },
  {
   "cell_type": "markdown",
   "metadata": {},
   "source": [
    "## 8. Define Training Loop\n",
    "* Specify constraints for agent training:\n",
    "    * Max episodes\n",
    "    * Max episode timesteps\n",
    "    * finish line score"
   ]
  },
  {
   "cell_type": "code",
   "execution_count": 11,
   "metadata": {
    "scrolled": false
   },
   "outputs": [],
   "source": [
    "PASSING_SCORE = 0.5      # environment solved when average score over 100 episodes is this value \n",
    "\n",
    "def train(n_episodes=2000, max_t=1000, print_every=50):\n",
    "    \n",
    "    max_scores = [] \n",
    "    avg_scores = [] \n",
    "    scores_deque = deque(maxlen=100) # project requires average over 100 episodes\n",
    "\n",
    "    # iterate over episodes\n",
    "    for i_episode in range(1, n_episodes+1):\n",
    "        env_info = env.reset(train_mode=True)[brain_name]\n",
    "        states = env_info.vector_observations\n",
    "        agent.reset()\n",
    "        scores = np.zeros(num_agents)\n",
    "        \n",
    "        # iterate over timesteps each episode\n",
    "        for t in range(max_t):\n",
    "            actions = agent.act(states, explore=True)\n",
    "            env_info = env.step(actions)[brain_name]\n",
    "            next_states = env_info.vector_observations\n",
    "            rewards = env_info.rewards\n",
    "            dones = env_info.local_done\n",
    "            scores += rewards\n",
    "            \n",
    "            # iterate over agents in environment\n",
    "            for state, action, reward, next_state, done in zip(states, actions, rewards, next_states, dones):\n",
    "                agent.step(state, action, reward, next_state, done, t)\n",
    "                \n",
    "            states = next_states\n",
    "            if np.any(dones):\n",
    "                break\n",
    "\n",
    "        # Bookkeep scores each episode\n",
    "        max_scores.append(np.max(scores))\n",
    "        scores_deque.append(np.max(scores)) \n",
    "        avg_scores.append(np.mean(scores_deque))\n",
    "        \n",
    "        # print progress\n",
    "        print('\\rEpisode {}\\tAverage Score: {:.4f}\\tMax Score: {:.2f}'.format(i_episode, avg_scores[-1], max_scores[-1]), end=\"\")\n",
    "        \n",
    "        # latch print at specified interval\n",
    "        if i_episode % print_every == 0:\n",
    "            print(\"\\rEpisode {}\\tAverage Score: {:.4f}\\tMax Score: {:.2f}\".format(i_episode, avg_scores[-1], max_scores[-1]))\n",
    "\n",
    "        # record final data once completion targets reached (Average 'PASSING_SCORE' for 100 consecutive episodes)\n",
    "        if avg_scores[-1] >= PASSING_SCORE and i_episode >= 100:\n",
    "            print(\"\\nEnvironment solved in {} episodes.\\tAverage score: {:.4f}\".format(i_episode, avg_scores[-1]))\n",
    "            torch.save(agent.actor_local.state_dict(), 'checkpoint_actor_final.pth')\n",
    "            torch.save(agent.critic_local.state_dict(), 'checkpoint_critic_final.pth')\n",
    "            break    \n",
    "            \n",
    "    return max_scores, avg_scores\n"
   ]
  },
  {
   "cell_type": "markdown",
   "metadata": {},
   "source": [
    "## 9. Train Agent and Plot Performance"
   ]
  },
  {
   "cell_type": "code",
   "execution_count": 12,
   "metadata": {},
   "outputs": [
    {
     "name": "stdout",
     "output_type": "stream",
     "text": [
      "Episode 50\tAverage Score: 0.0020\tMax Score: 0.00\n",
      "Episode 100\tAverage Score: 0.0048\tMax Score: 0.09\n",
      "Episode 150\tAverage Score: 0.0066\tMax Score: 0.00\n",
      "Episode 200\tAverage Score: 0.0028\tMax Score: 0.00\n",
      "Episode 250\tAverage Score: 0.0000\tMax Score: 0.00\n",
      "Episode 300\tAverage Score: 0.0010\tMax Score: 0.00\n",
      "Episode 350\tAverage Score: 0.0090\tMax Score: 0.00\n",
      "Episode 400\tAverage Score: 0.0166\tMax Score: 0.00\n",
      "Episode 450\tAverage Score: 0.0096\tMax Score: 0.10\n",
      "Episode 500\tAverage Score: 0.0125\tMax Score: 0.00\n",
      "Episode 550\tAverage Score: 0.0336\tMax Score: 0.10\n",
      "Episode 600\tAverage Score: 0.0366\tMax Score: 0.00\n",
      "Episode 650\tAverage Score: 0.0379\tMax Score: 0.00\n",
      "Episode 700\tAverage Score: 0.0697\tMax Score: 0.30\n",
      "Episode 750\tAverage Score: 0.2126\tMax Score: 0.10\n",
      "Episode 800\tAverage Score: 0.2842\tMax Score: 0.30\n",
      "Episode 850\tAverage Score: 0.4802\tMax Score: 0.20\n",
      "Episode 851\tAverage Score: 0.5052\tMax Score: 2.60\n",
      "Environment solved in 851 episodes.\tAverage score: 0.5052\n"
     ]
    },
    {
     "data": {
      "image/png": "[encoded data removed]",
      "text/plain": [
       "<matplotlib.figure.Figure at 0x7f5281147208>"
      ]
     },
     "metadata": {
      "needs_background": "light"
     },
     "output_type": "display_data"
    }
   ],
   "source": [
    "from workspace_utils import active_session # prevent notebook connection from dropping during long training session\n",
    "import matplotlib.pyplot as plt\n",
    "%matplotlib inline\n",
    "\n",
    "MAX_EPISODES = 2000      # maximum number of training episodes\n",
    "MAX_TIMESTEPS = 1000     # maximum number of timesteps per episode\n",
    "\n",
    "with active_session():\n",
    "    episode_scores, average_scores = train(MAX_EPISODES, MAX_TIMESTEPS)\n",
    "    \n",
    "    fig = plt.figure()\n",
    "    plt.plot(np.arange(len(episode_scores)), episode_scores, label='Episode Score ')\n",
    "    plt.plot(np.arange(len(episode_scores)), average_scores, c='r', linestyle = '--', label='Average Score')\n",
    "    plt.title('DDPG Multi-Agent Performance')\n",
    "    plt.ylabel('Score')\n",
    "    plt.xlabel('Episode #')\n",
    "    plt.legend()\n",
    "    plt.show()"
   ]
  },
  {
   "cell_type": "markdown",
   "metadata": {},
   "source": [
    "## 10. Future Work for Performance Improvements"
   ]
  },
  {
   "cell_type": "markdown",
   "metadata": {},
   "source": [
    "Ideas for improved performance:\n",
    "* Implement parameter space noise rather than action space noise to ensure network output actions are not independent of input states\n",
    "* Use a prioritized replay buffer rather than sampling experience tuples according to a uniform distribution\n",
    "* Perform more testing to understand why there appears to be a high sensitivity to network/agent implementation methodology (like defining classes in .py files as opposed to here in the notebook. See attached Report.md) and take steps to mitigate\n",
    "* Instead of only using fully connected (linear) layers, try incorporating more complex nodes like LSTM cells to better capture temporal relationships\n",
    "* Test with other features like leaky_relu activation functions and dropout layers to see how they impact performance \n"
   ]
  },
  {
   "cell_type": "code",
   "execution_count": null,
   "metadata": {},
   "outputs": [],
   "source": []
  }
 ],
 "metadata": {
  "kernelspec": {
   "display_name": "Python 3",
   "language": "python",
   "name": "python3"
  },
  "language_info": {
   "codemirror_mode": {
    "name": "ipython",
    "version": 3
   },
   "file_extension": ".py",
   "mimetype": "text/x-python",
   "name": "python",
   "nbconvert_exporter": "python",
   "pygments_lexer": "ipython3",
   "version": "3.6.12"
  }
 },
 "nbformat": 4,
 "nbformat_minor": 2
}
